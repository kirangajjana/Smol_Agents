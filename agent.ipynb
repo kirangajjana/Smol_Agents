{
 "cells": [
  {
   "cell_type": "code",
   "execution_count": 23,
   "metadata": {},
   "outputs": [],
   "source": [
    "import os\n",
    "from dotenv import load_dotenv"
   ]
  },
  {
   "cell_type": "code",
   "execution_count": 24,
   "metadata": {},
   "outputs": [
    {
     "data": {
      "text/plain": [
       "True"
      ]
     },
     "execution_count": 24,
     "metadata": {},
     "output_type": "execute_result"
    }
   ],
   "source": [
    "load_dotenv()\n",
    "\n"
   ]
  },
  {
   "cell_type": "code",
   "execution_count": 25,
   "metadata": {},
   "outputs": [],
   "source": [
    "HF_TOKEN=os.getenv(\"HF_TOKEN\")\n",
    "GEMINI_API_KEY=os.getenv(\"GEMINI_API_KEY\")"
   ]
  },
  {
   "cell_type": "code",
   "execution_count": 26,
   "metadata": {},
   "outputs": [],
   "source": [
    "from smolagents import CodeAgent,DuckDuckGoSearchTool,HfApiModel"
   ]
  },
  {
   "cell_type": "code",
   "execution_count": 27,
   "metadata": {},
   "outputs": [],
   "source": [
    "model=HfApiModel()"
   ]
  },
  {
   "cell_type": "code",
   "execution_count": 28,
   "metadata": {},
   "outputs": [],
   "source": [
    "agent=CodeAgent(tools=[DuckDuckGoSearchTool()],model=model)"
   ]
  },
  {
   "cell_type": "markdown",
   "metadata": {},
   "source": []
  },
  {
   "cell_type": "code",
   "execution_count": 29,
   "metadata": {},
   "outputs": [
    {
     "data": {
      "text/html": [
       "<pre style=\"white-space:pre;overflow-x:auto;line-height:normal;font-family:Menlo,'DejaVu Sans Mono',consolas,'Courier New',monospace\"><span style=\"color: #d4b702; text-decoration-color: #d4b702\">╭──────────────────────────────────────────────────── </span><span style=\"color: #d4b702; text-decoration-color: #d4b702; font-weight: bold\">New run</span><span style=\"color: #d4b702; text-decoration-color: #d4b702\"> ────────────────────────────────────────────────────╮</span>\n",
       "<span style=\"color: #d4b702; text-decoration-color: #d4b702\">│</span>                                                                                                                 <span style=\"color: #d4b702; text-decoration-color: #d4b702\">│</span>\n",
       "<span style=\"color: #d4b702; text-decoration-color: #d4b702\">│</span> <span style=\"font-weight: bold\">can you tell me can you tell me difference between human brain vs animal brain</span>                                  <span style=\"color: #d4b702; text-decoration-color: #d4b702\">│</span>\n",
       "<span style=\"color: #d4b702; text-decoration-color: #d4b702\">│</span>                                                                                                                 <span style=\"color: #d4b702; text-decoration-color: #d4b702\">│</span>\n",
       "<span style=\"color: #d4b702; text-decoration-color: #d4b702\">╰─ HfApiModel - Qwen/Qwen2.5-Coder-32B-Instruct ──────────────────────────────────────────────────────────────────╯</span>\n",
       "</pre>\n"
      ],
      "text/plain": [
       "\u001b[38;2;212;183;2m╭─\u001b[0m\u001b[38;2;212;183;2m───────────────────────────────────────────────────\u001b[0m\u001b[38;2;212;183;2m \u001b[0m\u001b[1;38;2;212;183;2mNew run\u001b[0m\u001b[38;2;212;183;2m \u001b[0m\u001b[38;2;212;183;2m───────────────────────────────────────────────────\u001b[0m\u001b[38;2;212;183;2m─╮\u001b[0m\n",
       "\u001b[38;2;212;183;2m│\u001b[0m                                                                                                                 \u001b[38;2;212;183;2m│\u001b[0m\n",
       "\u001b[38;2;212;183;2m│\u001b[0m \u001b[1mcan you tell me can you tell me difference between human brain vs animal brain\u001b[0m                                  \u001b[38;2;212;183;2m│\u001b[0m\n",
       "\u001b[38;2;212;183;2m│\u001b[0m                                                                                                                 \u001b[38;2;212;183;2m│\u001b[0m\n",
       "\u001b[38;2;212;183;2m╰─\u001b[0m\u001b[38;2;212;183;2m HfApiModel - Qwen/Qwen2.5-Coder-32B-Instruct \u001b[0m\u001b[38;2;212;183;2m─────────────────────────────────────────────────────────────────\u001b[0m\u001b[38;2;212;183;2m─╯\u001b[0m\n"
      ]
     },
     "metadata": {},
     "output_type": "display_data"
    },
    {
     "data": {
      "text/html": [
       "<pre style=\"white-space:pre;overflow-x:auto;line-height:normal;font-family:Menlo,'DejaVu Sans Mono',consolas,'Courier New',monospace\"><span style=\"color: #d4b702; text-decoration-color: #d4b702\">━━━━━━━━━━━━━━━━━━━━━━━━━━━━━━━━━━━━━━━━━━━━━━━━━━━━━ </span><span style=\"font-weight: bold\">Step </span><span style=\"color: #008080; text-decoration-color: #008080; font-weight: bold\">1</span><span style=\"color: #d4b702; text-decoration-color: #d4b702\"> ━━━━━━━━━━━━━━━━━━━━━━━━━━━━━━━━━━━━━━━━━━━━━━━━━━━━━━</span>\n",
       "</pre>\n"
      ],
      "text/plain": [
       "\u001b[38;2;212;183;2m━━━━━━━━━━━━━━━━━━━━━━━━━━━━━━━━━━━━━━━━━━━━━━━━━━━━━ \u001b[0m\u001b[1mStep \u001b[0m\u001b[1;36m1\u001b[0m\u001b[38;2;212;183;2m ━━━━━━━━━━━━━━━━━━━━━━━━━━━━━━━━━━━━━━━━━━━━━━━━━━━━━━\u001b[0m\n"
      ]
     },
     "metadata": {},
     "output_type": "display_data"
    },
    {
     "data": {
      "text/html": [
       "<pre style=\"white-space:pre;overflow-x:auto;line-height:normal;font-family:Menlo,'DejaVu Sans Mono',consolas,'Courier New',monospace\"> ─ <span style=\"font-weight: bold\">Executing parsed code:</span> ──────────────────────────────────────────────────────────────────────────────────────── \n",
       "  <span style=\"color: #f8f8f2; text-decoration-color: #f8f8f2; background-color: #272822\">comparison_result </span><span style=\"color: #ff4689; text-decoration-color: #ff4689; background-color: #272822\">=</span><span style=\"color: #f8f8f2; text-decoration-color: #f8f8f2; background-color: #272822\"> web_search(query</span><span style=\"color: #ff4689; text-decoration-color: #ff4689; background-color: #272822\">=</span><span style=\"color: #e6db74; text-decoration-color: #e6db74; background-color: #272822\">\"differences between human brain and animal brain\"</span><span style=\"color: #f8f8f2; text-decoration-color: #f8f8f2; background-color: #272822\">)</span><span style=\"background-color: #272822\">                       </span>  \n",
       "  <span style=\"color: #f8f8f2; text-decoration-color: #f8f8f2; background-color: #272822\">print(comparison_result)</span><span style=\"background-color: #272822\">                                                                                       </span>  \n",
       " ───────────────────────────────────────────────────────────────────────────────────────────────────────────────── \n",
       "</pre>\n"
      ],
      "text/plain": [
       " ─ \u001b[1mExecuting parsed code:\u001b[0m ──────────────────────────────────────────────────────────────────────────────────────── \n",
       "  \u001b[38;2;248;248;242;48;2;39;40;34mcomparison_result\u001b[0m\u001b[38;2;248;248;242;48;2;39;40;34m \u001b[0m\u001b[38;2;255;70;137;48;2;39;40;34m=\u001b[0m\u001b[38;2;248;248;242;48;2;39;40;34m \u001b[0m\u001b[38;2;248;248;242;48;2;39;40;34mweb_search\u001b[0m\u001b[38;2;248;248;242;48;2;39;40;34m(\u001b[0m\u001b[38;2;248;248;242;48;2;39;40;34mquery\u001b[0m\u001b[38;2;255;70;137;48;2;39;40;34m=\u001b[0m\u001b[38;2;230;219;116;48;2;39;40;34m\"\u001b[0m\u001b[38;2;230;219;116;48;2;39;40;34mdifferences between human brain and animal brain\u001b[0m\u001b[38;2;230;219;116;48;2;39;40;34m\"\u001b[0m\u001b[38;2;248;248;242;48;2;39;40;34m)\u001b[0m\u001b[48;2;39;40;34m                       \u001b[0m  \n",
       "  \u001b[38;2;248;248;242;48;2;39;40;34mprint\u001b[0m\u001b[38;2;248;248;242;48;2;39;40;34m(\u001b[0m\u001b[38;2;248;248;242;48;2;39;40;34mcomparison_result\u001b[0m\u001b[38;2;248;248;242;48;2;39;40;34m)\u001b[0m\u001b[48;2;39;40;34m                                                                                       \u001b[0m  \n",
       " ───────────────────────────────────────────────────────────────────────────────────────────────────────────────── \n"
      ]
     },
     "metadata": {},
     "output_type": "display_data"
    },
    {
     "data": {
      "text/html": [
       "<pre style=\"white-space:pre;overflow-x:auto;line-height:normal;font-family:Menlo,'DejaVu Sans Mono',consolas,'Courier New',monospace\"><span style=\"font-weight: bold\">Execution logs:</span>\n",
       "## Search Results\n",
       "\n",
       "[Animal Brain vs. Human Brain - What's the Difference ... - This vs. \n",
       "That](https://thisvsthat.io/animal-brain-vs-human-brain)\n",
       "One of the key differences in brain function between animals and humans is the level of complexity in cognitive \n",
       "processes. While animals can exhibit intelligence and problem-solving skills, human brains have developed unique \n",
       "cognitive abilities such as language, abstract thinking, and self-awareness.\n",
       "\n",
       "[Difference Between Human Brain and Animal \n",
       "Brain](https://www.geeksforgeeks.org/difference-between-human-brain-and-animal-brain/)\n",
       "The difference between human brain and animal brain lies in their complexity and capabilities. The human brain is \n",
       "larger and more complex than the animal brain. The complexity of the human brain is more due to the highly \n",
       "developed neocortex, which is responsible for cognitive functions. This article will cover the difference between \n",
       "human and animal brains.\n",
       "\n",
       "[What is the Difference Between Humans and Animals \n",
       "Brain](https://pediaa.com/what-is-the-difference-between-humans-and-animals-brain/)\n",
       "The main difference between humans' brain and animals' brain is that humans' brain has a remarkable cognitive \n",
       "capacity, which is a crowning achievement of evolution whereas animals' brain shows comparatively less cognitive \n",
       "capacity.Furthermore, the cerebral cortex, which is responsible for the higher cognitive capacity of the human \n",
       "brain is disproportionately large, accounting for more ...\n",
       "\n",
       "[How do human brains differ from those of other primates? - \n",
       "BrainFacts](https://www.brainfacts.org/Ask-an-Expert/How-does-the-human-brain-differ-from-that-of-other-primates)\n",
       "The size of the human association cortex is only part of what makes this region unusual in humans. In addition to \n",
       "having more neurons in the association cortex, brain imaging studies comparing the brains of humans to other \n",
       "primates show humans have a greater number of fibers connecting the brain regions involved in such \n",
       "human-specialized functions as language, tool making, reasoning, and ...\n",
       "\n",
       "[There's a Strange Difference Between Human Brains And ... - \n",
       "ScienceAlert](https://www.sciencealert.com/we-ve-just-found-a-fascinating-difference-between-human-brains-and-those\n",
       "-of-other-mammals)\n",
       "By minimizing ion channel density, the human brain may have been able to deploy the energy savings elsewhere - \n",
       "perhaps in more complex synaptic connections, or more rapid action potentials. \"If the brain can save energy by \n",
       "reducing the density of ion channels, it can spend that energy on other neuronal or circuit processes,\" Harnett \n",
       "explains .\n",
       "\n",
       "[Difference Between Human and Animal Brain - \n",
       "BYJU'S](https://byjus.com/biology/difference-between-human-brain-and-animal-brain/)\n",
       "Similarities Between Human and Animal Brain. The similarities between human brain and animal brain include: The \n",
       "human and the animal brain form a part of the central nervous system. The brain of both are made up of neurons and \n",
       "neuroglia. Its main function is to control thoughts and body movement.\n",
       "\n",
       "[What makes the human brain different? Yale study reveals \n",
       "clues](https://news.yale.edu/2022/08/25/what-makes-human-brain-different-yale-study-reveals-clues)\n",
       "\"We humans live in a very different environment with a unique lifestyle compared to other primate species; and glia\n",
       "cells, including microglia, are very sensitive to these differences,\" Sestan said. \"The type of microglia found in \n",
       "the human brain might represent an immune response to the environment.\"\n",
       "\n",
       "[Difference Between Human Brain and Animal Brain - \n",
       "Collegedunia](https://collegedunia.com/exams/difference-between-human-brain-and-animal-brain-biology-articleid-5194\n",
       ")\n",
       "The five major differences between the human brain and the animal brain are as follows: Brain Size: Animals \n",
       "generally have smaller brains than humans (1.2 kg). There are, however, a few creatures that have larger brains \n",
       "than humans. Killer whales, dolphins (1.5-1.7 kg), elephants, and blue whales (5 kg) are among them (6 kg).\n",
       "\n",
       "[Difference Between Human and Sheep \n",
       "Brain](https://www.differencebetween.net/science/difference-between-human-and-sheep-brain/)\n",
       "The human brain is not only an amazing organ, but it allows inventing, creating, and imagining, which is a major \n",
       "difference between human and animal brains, such as the large prefrontal cortex region. This is area behind the \n",
       "forehead that sets the human brain apart from the animal brain - which is not capable of all these inventive and \n",
       "...\n",
       "\n",
       "[What is the Difference Between Human Brain and Animal \n",
       "Brain?](https://anamma.com.br/en/human-brain-vs-animal-brain/)\n",
       "The human brain and animal brain differ in several aspects, including size, cognitive abilities, and structure. \n",
       "Some of the key differences are: Size : The human brain is considerably larger than most animal brains, with an \n",
       "average weight of three pounds, which is enormous for an animal of our body size.\n",
       "\n",
       "Out: None\n",
       "</pre>\n"
      ],
      "text/plain": [
       "\u001b[1mExecution logs:\u001b[0m\n",
       "## Search Results\n",
       "\n",
       "[Animal Brain vs. Human Brain - What's the Difference ... - This vs. \n",
       "That](https://thisvsthat.io/animal-brain-vs-human-brain)\n",
       "One of the key differences in brain function between animals and humans is the level of complexity in cognitive \n",
       "processes. While animals can exhibit intelligence and problem-solving skills, human brains have developed unique \n",
       "cognitive abilities such as language, abstract thinking, and self-awareness.\n",
       "\n",
       "[Difference Between Human Brain and Animal \n",
       "Brain](https://www.geeksforgeeks.org/difference-between-human-brain-and-animal-brain/)\n",
       "The difference between human brain and animal brain lies in their complexity and capabilities. The human brain is \n",
       "larger and more complex than the animal brain. The complexity of the human brain is more due to the highly \n",
       "developed neocortex, which is responsible for cognitive functions. This article will cover the difference between \n",
       "human and animal brains.\n",
       "\n",
       "[What is the Difference Between Humans and Animals \n",
       "Brain](https://pediaa.com/what-is-the-difference-between-humans-and-animals-brain/)\n",
       "The main difference between humans' brain and animals' brain is that humans' brain has a remarkable cognitive \n",
       "capacity, which is a crowning achievement of evolution whereas animals' brain shows comparatively less cognitive \n",
       "capacity.Furthermore, the cerebral cortex, which is responsible for the higher cognitive capacity of the human \n",
       "brain is disproportionately large, accounting for more ...\n",
       "\n",
       "[How do human brains differ from those of other primates? - \n",
       "BrainFacts](https://www.brainfacts.org/Ask-an-Expert/How-does-the-human-brain-differ-from-that-of-other-primates)\n",
       "The size of the human association cortex is only part of what makes this region unusual in humans. In addition to \n",
       "having more neurons in the association cortex, brain imaging studies comparing the brains of humans to other \n",
       "primates show humans have a greater number of fibers connecting the brain regions involved in such \n",
       "human-specialized functions as language, tool making, reasoning, and ...\n",
       "\n",
       "[There's a Strange Difference Between Human Brains And ... - \n",
       "ScienceAlert](https://www.sciencealert.com/we-ve-just-found-a-fascinating-difference-between-human-brains-and-those\n",
       "-of-other-mammals)\n",
       "By minimizing ion channel density, the human brain may have been able to deploy the energy savings elsewhere - \n",
       "perhaps in more complex synaptic connections, or more rapid action potentials. \"If the brain can save energy by \n",
       "reducing the density of ion channels, it can spend that energy on other neuronal or circuit processes,\" Harnett \n",
       "explains .\n",
       "\n",
       "[Difference Between Human and Animal Brain - \n",
       "BYJU'S](https://byjus.com/biology/difference-between-human-brain-and-animal-brain/)\n",
       "Similarities Between Human and Animal Brain. The similarities between human brain and animal brain include: The \n",
       "human and the animal brain form a part of the central nervous system. The brain of both are made up of neurons and \n",
       "neuroglia. Its main function is to control thoughts and body movement.\n",
       "\n",
       "[What makes the human brain different? Yale study reveals \n",
       "clues](https://news.yale.edu/2022/08/25/what-makes-human-brain-different-yale-study-reveals-clues)\n",
       "\"We humans live in a very different environment with a unique lifestyle compared to other primate species; and glia\n",
       "cells, including microglia, are very sensitive to these differences,\" Sestan said. \"The type of microglia found in \n",
       "the human brain might represent an immune response to the environment.\"\n",
       "\n",
       "[Difference Between Human Brain and Animal Brain - \n",
       "Collegedunia](https://collegedunia.com/exams/difference-between-human-brain-and-animal-brain-biology-articleid-5194\n",
       ")\n",
       "The five major differences between the human brain and the animal brain are as follows: Brain Size: Animals \n",
       "generally have smaller brains than humans (1.2 kg). There are, however, a few creatures that have larger brains \n",
       "than humans. Killer whales, dolphins (1.5-1.7 kg), elephants, and blue whales (5 kg) are among them (6 kg).\n",
       "\n",
       "[Difference Between Human and Sheep \n",
       "Brain](https://www.differencebetween.net/science/difference-between-human-and-sheep-brain/)\n",
       "The human brain is not only an amazing organ, but it allows inventing, creating, and imagining, which is a major \n",
       "difference between human and animal brains, such as the large prefrontal cortex region. This is area behind the \n",
       "forehead that sets the human brain apart from the animal brain - which is not capable of all these inventive and \n",
       "...\n",
       "\n",
       "[What is the Difference Between Human Brain and Animal \n",
       "Brain?](https://anamma.com.br/en/human-brain-vs-animal-brain/)\n",
       "The human brain and animal brain differ in several aspects, including size, cognitive abilities, and structure. \n",
       "Some of the key differences are: Size : The human brain is considerably larger than most animal brains, with an \n",
       "average weight of three pounds, which is enormous for an animal of our body size.\n",
       "\n",
       "Out: None\n"
      ]
     },
     "metadata": {},
     "output_type": "display_data"
    },
    {
     "data": {
      "text/html": [
       "<pre style=\"white-space:pre;overflow-x:auto;line-height:normal;font-family:Menlo,'DejaVu Sans Mono',consolas,'Courier New',monospace\"><span style=\"color: #7f7f7f; text-decoration-color: #7f7f7f\">[Step 1: Duration 9.36 seconds| Input tokens: 2,085 | Output tokens: 78]</span>\n",
       "</pre>\n"
      ],
      "text/plain": [
       "\u001b[2m[Step 1: Duration 9.36 seconds| Input tokens: 2,085 | Output tokens: 78]\u001b[0m\n"
      ]
     },
     "metadata": {},
     "output_type": "display_data"
    },
    {
     "data": {
      "text/html": [
       "<pre style=\"white-space:pre;overflow-x:auto;line-height:normal;font-family:Menlo,'DejaVu Sans Mono',consolas,'Courier New',monospace\"><span style=\"color: #d4b702; text-decoration-color: #d4b702\">━━━━━━━━━━━━━━━━━━━━━━━━━━━━━━━━━━━━━━━━━━━━━━━━━━━━━ </span><span style=\"font-weight: bold\">Step </span><span style=\"color: #008080; text-decoration-color: #008080; font-weight: bold\">2</span><span style=\"color: #d4b702; text-decoration-color: #d4b702\"> ━━━━━━━━━━━━━━━━━━━━━━━━━━━━━━━━━━━━━━━━━━━━━━━━━━━━━━</span>\n",
       "</pre>\n"
      ],
      "text/plain": [
       "\u001b[38;2;212;183;2m━━━━━━━━━━━━━━━━━━━━━━━━━━━━━━━━━━━━━━━━━━━━━━━━━━━━━ \u001b[0m\u001b[1mStep \u001b[0m\u001b[1;36m2\u001b[0m\u001b[38;2;212;183;2m ━━━━━━━━━━━━━━━━━━━━━━━━━━━━━━━━━━━━━━━━━━━━━━━━━━━━━━\u001b[0m\n"
      ]
     },
     "metadata": {},
     "output_type": "display_data"
    },
    {
     "data": {
      "text/html": [
       "<pre style=\"white-space:pre;overflow-x:auto;line-height:normal;font-family:Menlo,'DejaVu Sans Mono',consolas,'Courier New',monospace\"> ─ <span style=\"font-weight: bold\">Executing parsed code:</span> ──────────────────────────────────────────────────────────────────────────────────────── \n",
       "  <span style=\"color: #f8f8f2; text-decoration-color: #f8f8f2; background-color: #272822\">differences </span><span style=\"color: #ff4689; text-decoration-color: #ff4689; background-color: #272822\">=</span><span style=\"color: #f8f8f2; text-decoration-color: #f8f8f2; background-color: #272822\"> </span><span style=\"color: #e6db74; text-decoration-color: #e6db74; background-color: #272822\">\"\"\"</span><span style=\"background-color: #272822\">                                                                                              </span>  \n",
       "  <span style=\"color: #e6db74; text-decoration-color: #e6db74; background-color: #272822\">Key differences between the human brain and animal brains:</span><span style=\"background-color: #272822\">                                                     </span>  \n",
       "  <span style=\"background-color: #272822\">                                                                                                               </span>  \n",
       "  <span style=\"color: #e6db74; text-decoration-color: #e6db74; background-color: #272822\">1. **Size**: The human brain is notably larger compared to most animal brains, with an average weight of three </span>  \n",
       "  <span style=\"color: #e6db74; text-decoration-color: #e6db74; background-color: #272822\">pounds.</span><span style=\"background-color: #272822\">                                                                                                        </span>  \n",
       "  <span style=\"color: #e6db74; text-decoration-color: #e6db74; background-color: #272822\">2. **Neocortex Development**: The human brain has a highly developed neocortex, which is responsible for </span><span style=\"background-color: #272822\">      </span>  \n",
       "  <span style=\"color: #e6db74; text-decoration-color: #e6db74; background-color: #272822\">cognitive functions such as language, abstraction, and self-awareness.</span><span style=\"background-color: #272822\">                                         </span>  \n",
       "  <span style=\"color: #e6db74; text-decoration-color: #e6db74; background-color: #272822\">3. **Cognitive Abilities**: Human brains demonstrate a remarkable cognitive capacity, including complex </span><span style=\"background-color: #272822\">       </span>  \n",
       "  <span style=\"color: #e6db74; text-decoration-color: #e6db74; background-color: #272822\">problem-solving skills, abstract thinking, and language abilities.</span><span style=\"background-color: #272822\">                                             </span>  \n",
       "  <span style=\"color: #e6db74; text-decoration-color: #e6db74; background-color: #272822\">4. **Ion Channel Density**: The human brain has a lower ion channel density, which might have allowed energy </span><span style=\"background-color: #272822\">  </span>  \n",
       "  <span style=\"color: #e6db74; text-decoration-color: #e6db74; background-color: #272822\">savings to be deployed elsewhere, such as in more complex synaptic connections or more rapid action potentials.</span>  \n",
       "  <span style=\"color: #e6db74; text-decoration-color: #e6db74; background-color: #272822\">5. **Microglia**: The type of microglia in the human brain might represent an immune response to humans' unique</span>  \n",
       "  <span style=\"color: #e6db74; text-decoration-color: #e6db74; background-color: #272822\">environment.</span><span style=\"background-color: #272822\">                                                                                                   </span>  \n",
       "  <span style=\"color: #e6db74; text-decoration-color: #e6db74; background-color: #272822\">6. **Prefrontal Cortex**: The human brain has a large prefrontal cortex, which is behind the forehead. This </span><span style=\"background-color: #272822\">   </span>  \n",
       "  <span style=\"color: #e6db74; text-decoration-color: #e6db74; background-color: #272822\">area is involved in planning complex cognitive behavior, personality expression, decision-making, and </span><span style=\"background-color: #272822\">         </span>  \n",
       "  <span style=\"color: #e6db74; text-decoration-color: #e6db74; background-color: #272822\">moderating social behavior.</span><span style=\"background-color: #272822\">                                                                                    </span>  \n",
       "  <span style=\"color: #e6db74; text-decoration-color: #e6db74; background-color: #272822\">7. **Association Cortex**: The human association cortex has more neurons and connections between brain regions </span>  \n",
       "  <span style=\"color: #e6db74; text-decoration-color: #e6db74; background-color: #272822\">involved in human-specific functions like language, tool-making, reasoning, and advanced cognitive skills.</span><span style=\"background-color: #272822\">     </span>  \n",
       "  <span style=\"color: #e6db74; text-decoration-color: #e6db74; background-color: #272822\">\"\"\"</span><span style=\"background-color: #272822\">                                                                                                            </span>  \n",
       "  <span style=\"background-color: #272822\">                                                                                                               </span>  \n",
       "  <span style=\"color: #f8f8f2; text-decoration-color: #f8f8f2; background-color: #272822\">final_answer(differences)</span><span style=\"background-color: #272822\">                                                                                      </span>  \n",
       " ───────────────────────────────────────────────────────────────────────────────────────────────────────────────── \n",
       "</pre>\n"
      ],
      "text/plain": [
       " ─ \u001b[1mExecuting parsed code:\u001b[0m ──────────────────────────────────────────────────────────────────────────────────────── \n",
       "  \u001b[38;2;248;248;242;48;2;39;40;34mdifferences\u001b[0m\u001b[38;2;248;248;242;48;2;39;40;34m \u001b[0m\u001b[38;2;255;70;137;48;2;39;40;34m=\u001b[0m\u001b[38;2;248;248;242;48;2;39;40;34m \u001b[0m\u001b[38;2;230;219;116;48;2;39;40;34m\"\"\"\u001b[0m\u001b[48;2;39;40;34m                                                                                              \u001b[0m  \n",
       "  \u001b[38;2;230;219;116;48;2;39;40;34mKey differences between the human brain and animal brains:\u001b[0m\u001b[48;2;39;40;34m                                                     \u001b[0m  \n",
       "  \u001b[48;2;39;40;34m                                                                                                               \u001b[0m  \n",
       "  \u001b[38;2;230;219;116;48;2;39;40;34m1. **Size**: The human brain is notably larger compared to most animal brains, with an average weight of three \u001b[0m  \n",
       "  \u001b[38;2;230;219;116;48;2;39;40;34mpounds.\u001b[0m\u001b[48;2;39;40;34m                                                                                                        \u001b[0m  \n",
       "  \u001b[38;2;230;219;116;48;2;39;40;34m2. **Neocortex Development**: The human brain has a highly developed neocortex, which is responsible for \u001b[0m\u001b[48;2;39;40;34m      \u001b[0m  \n",
       "  \u001b[38;2;230;219;116;48;2;39;40;34mcognitive functions such as language, abstraction, and self-awareness.\u001b[0m\u001b[48;2;39;40;34m                                         \u001b[0m  \n",
       "  \u001b[38;2;230;219;116;48;2;39;40;34m3. **Cognitive Abilities**: Human brains demonstrate a remarkable cognitive capacity, including complex \u001b[0m\u001b[48;2;39;40;34m       \u001b[0m  \n",
       "  \u001b[38;2;230;219;116;48;2;39;40;34mproblem-solving skills, abstract thinking, and language abilities.\u001b[0m\u001b[48;2;39;40;34m                                             \u001b[0m  \n",
       "  \u001b[38;2;230;219;116;48;2;39;40;34m4. **Ion Channel Density**: The human brain has a lower ion channel density, which might have allowed energy \u001b[0m\u001b[48;2;39;40;34m  \u001b[0m  \n",
       "  \u001b[38;2;230;219;116;48;2;39;40;34msavings to be deployed elsewhere, such as in more complex synaptic connections or more rapid action potentials.\u001b[0m  \n",
       "  \u001b[38;2;230;219;116;48;2;39;40;34m5. **Microglia**: The type of microglia in the human brain might represent an immune response to humans\u001b[0m\u001b[38;2;230;219;116;48;2;39;40;34m'\u001b[0m\u001b[38;2;230;219;116;48;2;39;40;34m unique\u001b[0m  \n",
       "  \u001b[38;2;230;219;116;48;2;39;40;34menvironment.\u001b[0m\u001b[48;2;39;40;34m                                                                                                   \u001b[0m  \n",
       "  \u001b[38;2;230;219;116;48;2;39;40;34m6. **Prefrontal Cortex**: The human brain has a large prefrontal cortex, which is behind the forehead. This \u001b[0m\u001b[48;2;39;40;34m   \u001b[0m  \n",
       "  \u001b[38;2;230;219;116;48;2;39;40;34marea is involved in planning complex cognitive behavior, personality expression, decision-making, and \u001b[0m\u001b[48;2;39;40;34m         \u001b[0m  \n",
       "  \u001b[38;2;230;219;116;48;2;39;40;34mmoderating social behavior.\u001b[0m\u001b[48;2;39;40;34m                                                                                    \u001b[0m  \n",
       "  \u001b[38;2;230;219;116;48;2;39;40;34m7. **Association Cortex**: The human association cortex has more neurons and connections between brain regions \u001b[0m  \n",
       "  \u001b[38;2;230;219;116;48;2;39;40;34minvolved in human-specific functions like language, tool-making, reasoning, and advanced cognitive skills.\u001b[0m\u001b[48;2;39;40;34m     \u001b[0m  \n",
       "  \u001b[38;2;230;219;116;48;2;39;40;34m\"\"\"\u001b[0m\u001b[48;2;39;40;34m                                                                                                            \u001b[0m  \n",
       "  \u001b[48;2;39;40;34m                                                                                                               \u001b[0m  \n",
       "  \u001b[38;2;248;248;242;48;2;39;40;34mfinal_answer\u001b[0m\u001b[38;2;248;248;242;48;2;39;40;34m(\u001b[0m\u001b[38;2;248;248;242;48;2;39;40;34mdifferences\u001b[0m\u001b[38;2;248;248;242;48;2;39;40;34m)\u001b[0m\u001b[48;2;39;40;34m                                                                                      \u001b[0m  \n",
       " ───────────────────────────────────────────────────────────────────────────────────────────────────────────────── \n"
      ]
     },
     "metadata": {},
     "output_type": "display_data"
    },
    {
     "data": {
      "text/html": [
       "<pre style=\"white-space:pre;overflow-x:auto;line-height:normal;font-family:Menlo,'DejaVu Sans Mono',consolas,'Courier New',monospace\"><span style=\"color: #d4b702; text-decoration-color: #d4b702; font-weight: bold\">Out - Final answer: </span>\n",
       "<span style=\"color: #d4b702; text-decoration-color: #d4b702; font-weight: bold\">Key differences between the human brain and animal brains:</span>\n",
       "\n",
       "<span style=\"color: #d4b702; text-decoration-color: #d4b702; font-weight: bold\">1. **Size**: The human brain is notably larger compared to most animal brains, with an average weight of three </span>\n",
       "<span style=\"color: #d4b702; text-decoration-color: #d4b702; font-weight: bold\">pounds.</span>\n",
       "<span style=\"color: #d4b702; text-decoration-color: #d4b702; font-weight: bold\">2. **Neocortex Development**: The human brain has a highly developed neocortex, which is responsible for cognitive </span>\n",
       "<span style=\"color: #d4b702; text-decoration-color: #d4b702; font-weight: bold\">functions such as language, abstraction, and self-awareness.</span>\n",
       "<span style=\"color: #d4b702; text-decoration-color: #d4b702; font-weight: bold\">3. **Cognitive Abilities**: Human brains demonstrate a remarkable cognitive capacity, including complex </span>\n",
       "<span style=\"color: #d4b702; text-decoration-color: #d4b702; font-weight: bold\">problem-solving skills, abstract thinking, and language abilities.</span>\n",
       "<span style=\"color: #d4b702; text-decoration-color: #d4b702; font-weight: bold\">4. **Ion Channel Density**: The human brain has a lower ion channel density, which might have allowed energy </span>\n",
       "<span style=\"color: #d4b702; text-decoration-color: #d4b702; font-weight: bold\">savings to be deployed elsewhere, such as in more complex synaptic connections or more rapid action potentials.</span>\n",
       "<span style=\"color: #d4b702; text-decoration-color: #d4b702; font-weight: bold\">5. **Microglia**: The type of microglia in the human brain might represent an immune response to humans' unique </span>\n",
       "<span style=\"color: #d4b702; text-decoration-color: #d4b702; font-weight: bold\">environment.</span>\n",
       "<span style=\"color: #d4b702; text-decoration-color: #d4b702; font-weight: bold\">6. **Prefrontal Cortex**: The human brain has a large prefrontal cortex, which is behind the forehead. This area is</span>\n",
       "<span style=\"color: #d4b702; text-decoration-color: #d4b702; font-weight: bold\">involved in planning complex cognitive behavior, personality expression, decision-making, and moderating social </span>\n",
       "<span style=\"color: #d4b702; text-decoration-color: #d4b702; font-weight: bold\">behavior.</span>\n",
       "<span style=\"color: #d4b702; text-decoration-color: #d4b702; font-weight: bold\">7. **Association Cortex**: The human association cortex has more neurons and connections between brain regions </span>\n",
       "<span style=\"color: #d4b702; text-decoration-color: #d4b702; font-weight: bold\">involved in human-specific functions like language, tool-making, reasoning, and advanced cognitive skills.</span>\n",
       "\n",
       "</pre>\n"
      ],
      "text/plain": [
       "\u001b[1;38;2;212;183;2mOut - Final answer: \u001b[0m\n",
       "\u001b[1;38;2;212;183;2mKey differences between the human brain and animal brains:\u001b[0m\n",
       "\n",
       "\u001b[1;38;2;212;183;2m1. **Size**: The human brain is notably larger compared to most animal brains, with an average weight of three \u001b[0m\n",
       "\u001b[1;38;2;212;183;2mpounds.\u001b[0m\n",
       "\u001b[1;38;2;212;183;2m2. **Neocortex Development**: The human brain has a highly developed neocortex, which is responsible for cognitive \u001b[0m\n",
       "\u001b[1;38;2;212;183;2mfunctions such as language, abstraction, and self-awareness.\u001b[0m\n",
       "\u001b[1;38;2;212;183;2m3. **Cognitive Abilities**: Human brains demonstrate a remarkable cognitive capacity, including complex \u001b[0m\n",
       "\u001b[1;38;2;212;183;2mproblem-solving skills, abstract thinking, and language abilities.\u001b[0m\n",
       "\u001b[1;38;2;212;183;2m4. **Ion Channel Density**: The human brain has a lower ion channel density, which might have allowed energy \u001b[0m\n",
       "\u001b[1;38;2;212;183;2msavings to be deployed elsewhere, such as in more complex synaptic connections or more rapid action potentials.\u001b[0m\n",
       "\u001b[1;38;2;212;183;2m5. **Microglia**: The type of microglia in the human brain might represent an immune response to humans' unique \u001b[0m\n",
       "\u001b[1;38;2;212;183;2menvironment.\u001b[0m\n",
       "\u001b[1;38;2;212;183;2m6. **Prefrontal Cortex**: The human brain has a large prefrontal cortex, which is behind the forehead. This area is\u001b[0m\n",
       "\u001b[1;38;2;212;183;2minvolved in planning complex cognitive behavior, personality expression, decision-making, and moderating social \u001b[0m\n",
       "\u001b[1;38;2;212;183;2mbehavior.\u001b[0m\n",
       "\u001b[1;38;2;212;183;2m7. **Association Cortex**: The human association cortex has more neurons and connections between brain regions \u001b[0m\n",
       "\u001b[1;38;2;212;183;2minvolved in human-specific functions like language, tool-making, reasoning, and advanced cognitive skills.\u001b[0m\n",
       "\n"
      ]
     },
     "metadata": {},
     "output_type": "display_data"
    },
    {
     "data": {
      "text/html": [
       "<pre style=\"white-space:pre;overflow-x:auto;line-height:normal;font-family:Menlo,'DejaVu Sans Mono',consolas,'Courier New',monospace\"><span style=\"color: #7f7f7f; text-decoration-color: #7f7f7f\">[Step 2: Duration 14.93 seconds| Input tokens: 5,359 | Output tokens: 381]</span>\n",
       "</pre>\n"
      ],
      "text/plain": [
       "\u001b[2m[Step 2: Duration 14.93 seconds| Input tokens: 5,359 | Output tokens: 381]\u001b[0m\n"
      ]
     },
     "metadata": {},
     "output_type": "display_data"
    },
    {
     "data": {
      "text/plain": [
       "\"\\nKey differences between the human brain and animal brains:\\n\\n1. **Size**: The human brain is notably larger compared to most animal brains, with an average weight of three pounds.\\n2. **Neocortex Development**: The human brain has a highly developed neocortex, which is responsible for cognitive functions such as language, abstraction, and self-awareness.\\n3. **Cognitive Abilities**: Human brains demonstrate a remarkable cognitive capacity, including complex problem-solving skills, abstract thinking, and language abilities.\\n4. **Ion Channel Density**: The human brain has a lower ion channel density, which might have allowed energy savings to be deployed elsewhere, such as in more complex synaptic connections or more rapid action potentials.\\n5. **Microglia**: The type of microglia in the human brain might represent an immune response to humans' unique environment.\\n6. **Prefrontal Cortex**: The human brain has a large prefrontal cortex, which is behind the forehead. This area is involved in planning complex cognitive behavior, personality expression, decision-making, and moderating social behavior.\\n7. **Association Cortex**: The human association cortex has more neurons and connections between brain regions involved in human-specific functions like language, tool-making, reasoning, and advanced cognitive skills.\\n\""
      ]
     },
     "execution_count": 29,
     "metadata": {},
     "output_type": "execute_result"
    }
   ],
   "source": [
    "agent.run(\"can you tell me can you tell me difference between human brain vs animal brain\")"
   ]
  },
  {
   "cell_type": "code",
   "execution_count": null,
   "metadata": {},
   "outputs": [],
   "source": []
  }
 ],
 "metadata": {
  "kernelspec": {
   "display_name": "Python 3",
   "language": "python",
   "name": "python3"
  },
  "language_info": {
   "codemirror_mode": {
    "name": "ipython",
    "version": 3
   },
   "file_extension": ".py",
   "mimetype": "text/x-python",
   "name": "python",
   "nbconvert_exporter": "python",
   "pygments_lexer": "ipython3",
   "version": "3.11.0"
  }
 },
 "nbformat": 4,
 "nbformat_minor": 2
}
